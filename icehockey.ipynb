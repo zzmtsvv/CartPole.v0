{
  "nbformat": 4,
  "nbformat_minor": 0,
  "metadata": {
    "colab": {
      "name": "icehockey.ipynb",
      "provenance": [],
      "authorship_tag": "ABX9TyMV1gAMgnS13rAlH+nWSQN8",
      "include_colab_link": true
    },
    "kernelspec": {
      "name": "python3",
      "display_name": "Python 3"
    },
    "language_info": {
      "name": "python"
    },
    "accelerator": "GPU"
  },
  "cells": [
    {
      "cell_type": "markdown",
      "metadata": {
        "id": "view-in-github",
        "colab_type": "text"
      },
      "source": [
        "<a href=\"https://colab.research.google.com/github/zzmtsvv/RL-with-gym/blob/main/icehockey.ipynb\" target=\"_parent\"><img src=\"https://colab.research.google.com/assets/colab-badge.svg\" alt=\"Open In Colab\"/></a>"
      ]
    },
    {
      "cell_type": "code",
      "metadata": {
        "id": "ZDMoW81GlnYN"
      },
      "source": [
        "! pip install gym\n",
        "! pip install gym[atari]"
      ],
      "execution_count": null,
      "outputs": []
    },
    {
      "cell_type": "code",
      "metadata": {
        "id": "Q97DeDF1lqFr"
      },
      "source": [
        "! unzip /content/ROMS.zip"
      ],
      "execution_count": null,
      "outputs": []
    },
    {
      "cell_type": "code",
      "metadata": {
        "id": "4uZ_eb1rl3SE"
      },
      "source": [
        "!python -m atari_py.import_roms /content/ROMS"
      ],
      "execution_count": null,
      "outputs": []
    },
    {
      "cell_type": "code",
      "metadata": {
        "id": "VrFFuBC1l5u_"
      },
      "source": [
        "import gym\n",
        "from gym.wrappers import TransformObservation\n",
        "import torch\n",
        "from torch import nn\n",
        "from copy import deepcopy\n",
        "import numpy as np\n",
        "import random\n",
        "import torch.nn.functional as F\n",
        "import matplotlib.pyplot as plt\n",
        "from collections import deque, namedtuple"
      ],
      "execution_count": 4,
      "outputs": []
    },
    {
      "cell_type": "code",
      "metadata": {
        "id": "fiDmtx1eohFs"
      },
      "source": [
        "BUFFER_SIZE = 1000\n",
        "BATCH_SIZE = 128\n",
        "GAMMA = 0.99\n",
        "TARGET_UPDATE = 500\n",
        "SEED = 252"
      ],
      "execution_count": 16,
      "outputs": []
    },
    {
      "cell_type": "code",
      "metadata": {
        "id": "j_mXYtVJl8rN"
      },
      "source": [
        "env = gym.make('IceHockey-ram-v0')\n",
        "env.seed(SEED)\n",
        "np.random.seed(SEED)\n",
        "torch.manual_seed(SEED)\n",
        "random.seed(SEED)"
      ],
      "execution_count": 6,
      "outputs": []
    },
    {
      "cell_type": "code",
      "metadata": {
        "id": "ozu5li_9tHAy"
      },
      "source": [
        "env = TransformObservation(env, lambda x: x / 255.0)"
      ],
      "execution_count": 7,
      "outputs": []
    },
    {
      "cell_type": "code",
      "metadata": {
        "colab": {
          "base_uri": "https://localhost:8080/"
        },
        "id": "WhTVrPwzm6qX",
        "outputId": "f6b0c77c-466a-458a-ca25-4f111dd7047e"
      },
      "source": [
        "device = torch.device(\"cuda\" if torch.cuda.is_available() else \"cpu\")\n",
        "device"
      ],
      "execution_count": 8,
      "outputs": [
        {
          "output_type": "execute_result",
          "data": {
            "text/plain": [
              "device(type='cuda')"
            ]
          },
          "metadata": {
            "tags": []
          },
          "execution_count": 8
        }
      ]
    },
    {
      "cell_type": "code",
      "metadata": {
        "id": "RBU-Ag1EoYYj"
      },
      "source": [
        "class BestAgent:\n",
        "  def __init__(self, model):\n",
        "    self.model = deepcopy(model)\n",
        "  \n",
        "  def act(self, state):\n",
        "    state = torch.tensor(state).to(device).float()\n",
        "    with torch.no_grad():\n",
        "      q_values = self.model(state.unsqueeze(0))\n",
        "    return np.argmax(q_values.cpu().data.numpy())"
      ],
      "execution_count": 17,
      "outputs": []
    },
    {
      "cell_type": "code",
      "metadata": {
        "id": "hL0yc5SKpgJ7"
      },
      "source": [
        "class ReplayMemory(object):\n",
        "  def __init__(self, capacity):\n",
        "    self.capacity = capacity\n",
        "    self.memory = deque(maxlen=capacity)\n",
        "    self.transition = namedtuple('Transition', ('state', 'action',\n",
        "                                                'next_state', 'reward'))\n",
        "    self.position = 0\n",
        "  \n",
        "  def __len__(self):\n",
        "    return len(self.memory)\n",
        "  \n",
        "  def push(self, *args):\n",
        "    self.memory.append(self.transition(*args))\n",
        "  \n",
        "  def sample(self, batch_size):\n",
        "    return random.sample(self.memory, batch_size)\n",
        "\n",
        "\n",
        "class Buffering:\n",
        "  def __init__(self, capacity):\n",
        "    self.capacity = capacity\n",
        "    self.memory = []\n",
        "    self.position = -1\n",
        "  \n",
        "  def __len__(self):\n",
        "    return len(self.memory)\n",
        "  \n",
        "  def add(self, elem):\n",
        "    if len(self.memory) < self.capacity:\n",
        "      self.memory.append(None)\n",
        "    new_pos = (self.position + 1) % self.capacity\n",
        "    self.memory[new_pos] = elem\n",
        "    self.position = new_pos\n",
        "    \n",
        "  def sample(self, batch_size):\n",
        "    return random.sample(self.memory, batch_size)\n",
        "\n",
        "  def __getitem__(self, key):\n",
        "    return self.memory[(self.position + 1 + key) % self.capacity]"
      ],
      "execution_count": 18,
      "outputs": []
    },
    {
      "cell_type": "code",
      "metadata": {
        "id": "IjKMufVxrFYv"
      },
      "source": [
        "class ArseNet(nn.Module):\n",
        "  def __init__(self, input_dim, output_dim):\n",
        "    super(ArseNet, self).__init__()\n",
        "\n",
        "    self.online = nn.Sequential(\n",
        "        nn.Linear(input_dim, 64),\n",
        "        nn.ReLU(),\n",
        "        nn.Linear(64, 64),\n",
        "        nn.ReLU(),\n",
        "        nn.Linear(64, 48),\n",
        "        nn.ReLU(),\n",
        "        nn.Linear(48, 48),\n",
        "        nn.ReLU(),\n",
        "        nn.Linear(48, 32),\n",
        "        nn.ReLU(),\n",
        "        nn.Linear(32, 32),\n",
        "        nn.ReLU(),\n",
        "        nn.Linear(32, output_dim)\n",
        "    )\n",
        "    \n",
        "  def forward(self, x):\n",
        "    return self.online(x)"
      ],
      "execution_count": 28,
      "outputs": []
    },
    {
      "cell_type": "code",
      "metadata": {
        "id": "fIueQtlgutFI"
      },
      "source": [
        "class Agent:\n",
        "  def __init__(self, state_dim, action_dim):\n",
        "    self.net = ArseNet(state_dim, action_dim).to(device)\n",
        "    self.target = deepcopy(self.net).to(device)\n",
        "    \n",
        "    for p in self.target.parameters():\n",
        "      p.requires_grad = False\n",
        "    \n",
        "    self.optimizer = torch.optim.Adam(self.net.parameters(), lr=3e-4)\n",
        "  \n",
        "  def update(self, batch):\n",
        "    states, actions, rewards, next_states, dones = zip(*batch)\n",
        "    states = torch.from_numpy(np.array(states)).float().to(device)\n",
        "    actions = torch.from_numpy(np.array(actions)).to(device).unsqueeze(1)\n",
        "    rewards = torch.from_numpy(np.array(rewards)).float().to(device).unsqueeze(1)\n",
        "    next_states = torch.from_numpy(np.array(next_states)).float().to(device)\n",
        "    dones = torch.from_numpy(np.array(dones)).to(device).unsqueeze(1)\n",
        "\n",
        "    with torch.no_grad():\n",
        "      argmax = self.net(next_states).detach().max(1)[1].unsqueeze(1)\n",
        "      target = rewards + (GAMMA * self.target(next_states).detach().gather(1, argmax))*(~dones)\n",
        "    \n",
        "    q_current = self.net(states).gather(1, actions)\n",
        "    self.optimizer.zero_grad()\n",
        "    loss = F.mse_loss(target, q_current)\n",
        "    loss.backward()\n",
        "    self.optimizer.step()\n",
        "  \n",
        "  def act(self, state):\n",
        "    state = torch.tensor(state).to(device).float()\n",
        "    with torch.no_grad():\n",
        "      q_values = self.net(state.unsqueeze(0))\n",
        "    return np.argmax(q_values.cpu().data.numpy())\n",
        "  \n",
        "  def update_target(self):\n",
        "    self.target = deepcopy(self.net)"
      ],
      "execution_count": 33,
      "outputs": []
    },
    {
      "cell_type": "code",
      "metadata": {
        "id": "D7aLufNuwvXW"
      },
      "source": [
        "def eps_greedy(env, agent, state, eps):\n",
        "  if random.random() < eps:\n",
        "    return env.action_space.sample()\n",
        "  return agent.act(state)\n",
        "\n",
        "\n",
        "def current_result(iteration, rewards, eps, output_period=100):\n",
        "  mean_ = np.mean(rewards)\n",
        "  max_ = np.max(rewards)\n",
        "  min_ = np.min(rewards)\n",
        "  if not iteration % output_period:\n",
        "    print(f'\\episode {iteration} eps={eps} mean={mean_} max={max_} min={min_}')\n",
        "  return mean_"
      ],
      "execution_count": 34,
      "outputs": []
    },
    {
      "cell_type": "code",
      "metadata": {
        "id": "ea62wZUSwyYf"
      },
      "source": [
        "agent = Agent(128, 18)\n",
        "buf = Buffering(BUFFER_SIZE)\n",
        "\n",
        "episodes = 1000\n",
        "eps = 1\n",
        "eps_coeff = 0.995\n",
        "net_updates = 0\n",
        "\n",
        "rewards = deque(maxlen=100)\n",
        "best_mean = -1000\n",
        "best_model = None\n",
        "overall_rewards = [None] * episodes"
      ],
      "execution_count": 35,
      "outputs": []
    },
    {
      "cell_type": "code",
      "metadata": {
        "id": "HbhlXe1XykeS"
      },
      "source": [
        "for episode in range(episodes):\n",
        "  state = env.reset()\n",
        "  done = False\n",
        "  total_reward = 0\n",
        "\n",
        "  while not done:\n",
        "    action = eps_greedy(env, agent, state, eps)\n",
        "    next_state, reward, done, _ = env.step(action)\n",
        "    total_reward += reward\n",
        "    reward += 300 * (GAMMA * np.mean(next_state) - np.mean(state))\n",
        "\n",
        "    buf.add((state, action, reward, next_state, done))\n",
        "    if len(buf) >= BATCH_SIZE:\n",
        "      agent.update(buf.sample(BATCH_SIZE))\n",
        "      net_updates += 1\n",
        "    if not net_updates % TARGET_UPDATE:\n",
        "      agent.update_target()\n",
        "    \n",
        "    state = next_state\n",
        "  eps *= eps_coeff\n",
        "  rewards.append(total_reward)\n",
        "  overall_rewards[episode] = total_reward\n",
        "  \n",
        "  mean_reward = current_result(episode, rewards, eps)\n",
        "  if mean_reward > best_mean:\n",
        "    best_model = deepcopy(agent.net)\n",
        "    best_mean = mean_reward"
      ],
      "execution_count": null,
      "outputs": []
    },
    {
      "cell_type": "code",
      "metadata": {
        "id": "84yEgoVO1d_-"
      },
      "source": [
        "plt.figure(figsize=(15, 7))\n",
        "plt.plot(range(1, episodes + 1), overall_rewards)\n",
        "plt.ylabel('Reward')\n",
        "plt.xlabel('Episodes')\n",
        "plt.show()"
      ],
      "execution_count": null,
      "outputs": []
    },
    {
      "cell_type": "code",
      "metadata": {
        "id": "Tfv8oPB52uT8"
      },
      "source": [
        "!pip install gym pyvirtualdisplay > /dev/null 2>&1\n",
        "!apt-get install -y xvfb python-opengl ffmpeg > /dev/null 2>&1"
      ],
      "execution_count": 39,
      "outputs": []
    },
    {
      "cell_type": "code",
      "metadata": {
        "id": "O_2Um-cu2vyG"
      },
      "source": [
        "from gym.wrappers import Monitor\n",
        "import glob\n",
        "import io\n",
        "import base64\n",
        "from IPython.display import HTML\n",
        "from IPython import display as ipythondisplay"
      ],
      "execution_count": 40,
      "outputs": []
    },
    {
      "cell_type": "code",
      "metadata": {
        "colab": {
          "base_uri": "https://localhost:8080/"
        },
        "id": "XxA4WfHI2xeI",
        "outputId": "980027ac-8587-4e5d-e3f4-eab9906c13cc"
      },
      "source": [
        "from pyvirtualdisplay import Display\n",
        "display = Display(visible=0, size=(1400, 900))\n",
        "display.start()"
      ],
      "execution_count": 41,
      "outputs": [
        {
          "output_type": "execute_result",
          "data": {
            "text/plain": [
              "<pyvirtualdisplay.display.Display at 0x7f76e27a1f90>"
            ]
          },
          "metadata": {
            "tags": []
          },
          "execution_count": 41
        }
      ]
    },
    {
      "cell_type": "code",
      "metadata": {
        "id": "vvmhhl6U3AYP"
      },
      "source": [
        "def show_video():\n",
        "  mp4list = glob.glob('video/*.mp4')\n",
        "  if len(mp4list) > 0:\n",
        "    mp4 = mp4list[0]\n",
        "    video = io.open(mp4, 'r+b').read()\n",
        "    encoded = base64.b64encode(video)\n",
        "    ipythondisplay.display(HTML(data='''<video alt=\"test\" autoplay \n",
        "                loop controls style=\"height: 400px;\">\n",
        "                <source src=\"data:video/mp4;base64,{0}\" type=\"video/mp4\" />\n",
        "             </video>'''.format(encoded.decode('ascii'))))\n",
        "  else: \n",
        "    print(\"Could not find video\")\n",
        "    \n",
        "\n",
        "def wrap_env(env):\n",
        "  env = Monitor(env, './video', force=True)\n",
        "  return env"
      ],
      "execution_count": 42,
      "outputs": []
    },
    {
      "cell_type": "code",
      "metadata": {
        "id": "MgSatP7l3DB8"
      },
      "source": [
        "env = wrap_env(env)\n",
        "state = env.reset()\n",
        "done = False\n",
        "total_reward = 0\n",
        "ag = BestAgent(best_model)\n",
        "\n",
        "while not done:\n",
        "    env.render()\n",
        "    action = ag.act(state)\n",
        "    state, reward, done, _ = env.step(action)\n",
        "    total_reward += reward\n",
        "env.close()\n",
        "print(total_reward)\n",
        "show_video()"
      ],
      "execution_count": null,
      "outputs": []
    },
    {
      "cell_type": "code",
      "metadata": {
        "id": "Q8ule7yh3LKV"
      },
      "source": [
        "env.close()"
      ],
      "execution_count": null,
      "outputs": []
    }
  ]
}