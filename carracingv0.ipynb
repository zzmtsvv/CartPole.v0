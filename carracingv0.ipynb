{
  "nbformat": 4,
  "nbformat_minor": 0,
  "metadata": {
    "colab": {
      "name": "carracingv0.ipynb",
      "provenance": [],
      "authorship_tag": "ABX9TyOtDk2ALpJbq9uH/YqjyG5G",
      "include_colab_link": true
    },
    "kernelspec": {
      "name": "python3",
      "display_name": "Python 3"
    },
    "language_info": {
      "name": "python"
    },
    "accelerator": "GPU"
  },
  "cells": [
    {
      "cell_type": "markdown",
      "metadata": {
        "id": "view-in-github",
        "colab_type": "text"
      },
      "source": [
        "<a href=\"https://colab.research.google.com/github/zzmtsvv/RL-with-gym/blob/main/carracingv0.ipynb\" target=\"_parent\"><img src=\"https://colab.research.google.com/assets/colab-badge.svg\" alt=\"Open In Colab\"/></a>"
      ]
    },
    {
      "cell_type": "code",
      "metadata": {
        "colab": {
          "base_uri": "https://localhost:8080/"
        },
        "id": "uKnGdkzaM5f8",
        "outputId": "fe16a57e-27a4-4a40-ecc5-9e1138834874"
      },
      "source": [
        "!pip3 install box2d-py\n",
        "!pip3 install gym[Box_2D]\n",
        "!pip install gym pyvirtualdisplay > /dev/null 2>&1\n",
        "!apt-get install -y xvfb python-opengl ffmpeg > /dev/null 2>&1"
      ],
      "execution_count": 1,
      "outputs": [
        {
          "output_type": "stream",
          "text": [
            "Requirement already satisfied: box2d-py in /usr/local/lib/python3.7/dist-packages (2.3.8)\n",
            "Requirement already satisfied: gym[Box_2D] in /usr/local/lib/python3.7/dist-packages (0.17.3)\n",
            "\u001b[33mWARNING: gym 0.17.3 does not provide the extra 'box_2d'\u001b[0m\n",
            "Requirement already satisfied: numpy>=1.10.4 in /usr/local/lib/python3.7/dist-packages (from gym[Box_2D]) (1.19.5)\n",
            "Requirement already satisfied: pyglet<=1.5.0,>=1.4.0 in /usr/local/lib/python3.7/dist-packages (from gym[Box_2D]) (1.5.0)\n",
            "Requirement already satisfied: cloudpickle<1.7.0,>=1.2.0 in /usr/local/lib/python3.7/dist-packages (from gym[Box_2D]) (1.3.0)\n",
            "Requirement already satisfied: scipy in /usr/local/lib/python3.7/dist-packages (from gym[Box_2D]) (1.4.1)\n",
            "Requirement already satisfied: future in /usr/local/lib/python3.7/dist-packages (from pyglet<=1.5.0,>=1.4.0->gym[Box_2D]) (0.16.0)\n"
          ],
          "name": "stdout"
        }
      ]
    },
    {
      "cell_type": "code",
      "metadata": {
        "id": "pceZEPguIqOH"
      },
      "source": [
        "import numpy as np\n",
        "import torch\n",
        "from torch import nn\n",
        "import torch.nn.functional as F\n",
        "from torch.distributions import Beta\n",
        "from torch import optim\n",
        "from torch.utils.data.sampler import BatchSampler, SubsetRandomSampler\n",
        "import gym"
      ],
      "execution_count": 2,
      "outputs": []
    },
    {
      "cell_type": "code",
      "metadata": {
        "id": "AWIvfUWpOLqf"
      },
      "source": [
        "from gym.wrappers import Monitor\n",
        "import glob\n",
        "import io\n",
        "import base64\n",
        "from IPython.display import HTML\n",
        "from IPython import display as ipythondisplay"
      ],
      "execution_count": 3,
      "outputs": []
    },
    {
      "cell_type": "code",
      "metadata": {
        "colab": {
          "base_uri": "https://localhost:8080/"
        },
        "id": "zDUIhnK3OOKi",
        "outputId": "5446ae25-9097-4815-957e-d7427e7f4d17"
      },
      "source": [
        "from pyvirtualdisplay import Display\n",
        "display = Display(visible=0, size=(1400, 900))\n",
        "display.start()"
      ],
      "execution_count": 4,
      "outputs": [
        {
          "output_type": "execute_result",
          "data": {
            "text/plain": [
              "<pyvirtualdisplay.display.Display at 0x7f140a0fead0>"
            ]
          },
          "metadata": {
            "tags": []
          },
          "execution_count": 4
        }
      ]
    },
    {
      "cell_type": "code",
      "metadata": {
        "id": "Q310EfeFM_Vw"
      },
      "source": [
        "seed = 421\n",
        "device = torch.device('cuda' if torch.cuda.is_available() else 'cpu')\n",
        "torch.manual_seed(seed)\n",
        "if torch.cuda.is_available():\n",
        "  torch.cuda.manual_seed(seed)\n",
        "\n",
        "transition = np.dtype([('s', np.float64, (4, 96, 96)), ('a', np.float64, (3,)),\n",
        "                       ('a_logp', np.float64), ('r', np.float64),\n",
        "                       ('s_', np.float64, (4, 96, 96))])"
      ],
      "execution_count": 5,
      "outputs": []
    },
    {
      "cell_type": "code",
      "metadata": {
        "id": "S5oW0u5RN05k"
      },
      "source": [
        "class Env(gym.Wrapper):\n",
        "  def __init__(self, env):\n",
        "    super(Env, self).__init__(env)\n",
        "    self.env.seed(seed)\n",
        "    self.reward_threshold = self.env.spec.reward_threshold\n",
        "  \n",
        "  def reset(self):\n",
        "    self.counter = 0\n",
        "    self.avrg_rew = self.reward_memory()\n",
        "\n",
        "    self.dead = False\n",
        "\n",
        "    img_rgb = self.env.reset()\n",
        "    img_gray = self.rgb2gray(img_rgb)\n",
        "    self.stack = [img_gray] * 4 # frames for decision\n",
        "    return np.array(self.stack)\n",
        "  \n",
        "  def step(self, action):\n",
        "    total_reward = 0\n",
        "    for _ in range(8):\n",
        "      # repeat action in 8 frames\n",
        "      img_rgb, reward, dead, _ = self.env.step(action)\n",
        "      if dead:\n",
        "        reward += 100\n",
        "      \n",
        "      if np.mean(img_rgb[:, :, 1]) > 185.0:\n",
        "        reward -= 0.05\n",
        "      total_reward += reward\n",
        "      done = True if self.avrg_rew(reward) <= -0.1 else False\n",
        "      if done or dead:\n",
        "        break\n",
        "    img_gray = self.rgb2gray(img_rgb)\n",
        "    self.stack.pop(0)\n",
        "    self.stack.append(img_gray)\n",
        "    assert len(self.stack) == 4\n",
        "    return np.array(self.stack), total_reward, done, dead\n",
        "  \n",
        "  def render(self):\n",
        "    self.env.render()\n",
        "  \n",
        "  @staticmethod\n",
        "  def rgb2gray(rgb, norm=True):\n",
        "    gray = np.dot(rgb[..., :], [0.299, 0.587, 0.114])\n",
        "    if norm:\n",
        "      gray = gray / 128. - 1.\n",
        "    return gray\n",
        "  \n",
        "  @staticmethod\n",
        "  def reward_memory():\n",
        "    count = 0\n",
        "    length = 100\n",
        "    history = np.zeros(length)\n",
        "\n",
        "    def memory(reward):\n",
        "      nonlocal count\n",
        "      history[count] = reward\n",
        "      count = (count + 1) % length\n",
        "      return np.mean(history)\n",
        "    return memory"
      ],
      "execution_count": 6,
      "outputs": []
    },
    {
      "cell_type": "code",
      "metadata": {
        "id": "LMBKSKVcSZJp"
      },
      "source": [
        "class ArseNet(nn.Module):\n",
        "    \"\"\"\n",
        "    Actor-Critic Network for PPO\n",
        "    \"\"\"\n",
        "    def __init__(self):\n",
        "      super(ArseNet, self).__init__()\n",
        "      self.cnn_base = nn.Sequential(\n",
        "          nn.Conv2d(4, 8, kernel_size=4, stride=2),  # (4, 96, 96)\n",
        "          nn.ReLU(),  # activation\n",
        "          nn.Conv2d(8, 16, kernel_size=3, stride=2),  # (8, 47, 47)\n",
        "          nn.ReLU(),  # activation\n",
        "          nn.Conv2d(16, 32, kernel_size=3, stride=2),  # (16, 23, 23)\n",
        "          nn.ReLU(),  # activation\n",
        "          nn.Conv2d(32, 64, kernel_size=3, stride=2),  # (32, 11, 11)\n",
        "          nn.ReLU(),  # activation\n",
        "          nn.Conv2d(64, 128, kernel_size=3, stride=1),  # (64, 5, 5)\n",
        "          nn.ReLU(),  # activation\n",
        "          nn.Conv2d(128, 256, kernel_size=3, stride=1),  # (128, 3, 3)\n",
        "          nn.ReLU(),  # activation\n",
        "      )  # output shape (256, 1, 1)\n",
        "      self.v = nn.Sequential(nn.Linear(256, 100), nn.ReLU(), nn.Linear(100, 1))\n",
        "      self.fc = nn.Sequential(nn.Linear(256, 100), nn.ReLU())\n",
        "      self.alpha_head = nn.Sequential(nn.Linear(100, 3), nn.Softplus())\n",
        "      self.beta_head = nn.Sequential(nn.Linear(100, 3), nn.Softplus())\n",
        "      self.apply(self._weights_init)\n",
        "\n",
        "    @staticmethod\n",
        "    def _weights_init(w):\n",
        "      if isinstance(w, nn.Conv2d):\n",
        "        nn.init.xavier_uniform_(w.weight, gain=nn.init.calculate_gain('relu'))\n",
        "        nn.init.constant_(w.bias, 0.1)\n",
        "\n",
        "    def forward(self, x):\n",
        "      x = self.cnn_base(x)\n",
        "      x = x.view(-1, 256)\n",
        "      v = self.v(x)\n",
        "      x = self.fc(x)\n",
        "      alpha = self.alpha_head(x) + 1\n",
        "      beta = self.beta_head(x) + 1\n",
        "      return (alpha, beta), v"
      ],
      "execution_count": 7,
      "outputs": []
    },
    {
      "cell_type": "code",
      "metadata": {
        "id": "uGc3DVKrU-EV"
      },
      "source": [
        "class Agent:\n",
        "  def __init__(self):\n",
        "    self.max_grad_norm = 1 / 2\n",
        "    self.clip_param = .1\n",
        "    self.epoch = 10\n",
        "    self.capacity, self.batch_size = 2000, 128\n",
        "\n",
        "    self.training_step = 0\n",
        "    self.net = ArseNet().float().to(device)\n",
        "    self.buffer = np.empty(self.capacity, dtype=transition)\n",
        "    self.counter = 0\n",
        "\n",
        "    self.optimizer = optim.Adam(self.net.parameters())\n",
        "  \n",
        "  def select_action(self, state):\n",
        "    state = torch.from_numpy(state).float().to(device).unsqueeze(0)\n",
        "    with torch.no_grad():\n",
        "      alpha, beta = self.net(state)[0]\n",
        "    dist = Beta(alpha, beta)\n",
        "    action = dist.sample()\n",
        "    a_logp = dist.log_prob(action).sum(dim=1)\n",
        "\n",
        "    action = action.squeeze().cpu().numpy()\n",
        "    return action, a_logp.item()\n",
        "  \n",
        "  def save_param(self):\n",
        "    torch.save(self.net.state_dict(), 'param/ppo_carracing_net_params.pkl')\n",
        "  \n",
        "  def store(self, transition):\n",
        "    self.buffer[self.counter] = transition\n",
        "    self.counter += 1\n",
        "    if self.counter == self.capacity:\n",
        "      self.counter = 0\n",
        "      return True\n",
        "    return False\n",
        "  \n",
        "  def update(self):\n",
        "    self.training_step += 1\n",
        "    \n",
        "    s = torch.tensor(self.buffer['s'], dtype=torch.float32).to(device)\n",
        "    a = torch.tensor(self.buffer['a'], dtype=torch.float32).to(device)\n",
        "    r = torch.tensor(self.buffer['r'], dtype=torch.float32).to(device).view(-1, 1)\n",
        "    s_ = torch.tensor(self.buffer['s_'], dtype=torch.float32).to(device)\n",
        "\n",
        "    old_a_logp = torch.tensor(self.buffer['a_logp'], dtype=torch.float32).to(device).view(-1, 1)\n",
        "\n",
        "    with torch.no_grad():\n",
        "      target_v = r + 0.99 * self.net(s_)[1]\n",
        "      diff = target_v - self.net(s)[1]\n",
        "\n",
        "    for _ in range(self.epoch):\n",
        "      for index in BatchSampler(SubsetRandomSampler(range(self.capacity)), self.batch_size, False):\n",
        "        alpha, beta = self.net(s[index])[0]\n",
        "        dist = Beta(alpha, beta)\n",
        "        a_logp = dist.log_prob(a[index]).sum(dim=1, keepdim=True)\n",
        "        ratio = torch.exp(a_logp - old_a_logp[index])\n",
        "\n",
        "        surr1 = ratio * adv[index]\n",
        "        surr2 = torch.clamp(ratio, 1.0 - self.clip_param, 1.0 + self.clip_param) * diff[index]\n",
        "        action_loss = -torch.min(surr1, surr2).mean()\n",
        "        value_loss = F.smooth_l1_loss(self.net(s[index])[1], target_v[index])\n",
        "        loss = action_loss + 2. * value_loss\n",
        "\n",
        "        self.optimizer.zero_grad()\n",
        "        loss.backward()\n",
        "        self.optimizer.step()\n",
        "\n",
        "  def load_param(self):\n",
        "    self.net.load_state_dict(torch.load('/content/ppo_carracing_net_params.pkl'))"
      ],
      "execution_count": 8,
      "outputs": []
    },
    {
      "cell_type": "code",
      "metadata": {
        "colab": {
          "base_uri": "https://localhost:8080/"
        },
        "id": "hIMQLwawb-ze",
        "outputId": "e49c9803-d8e9-4e37-f348-aec09d94b213"
      },
      "source": [
        "agent = Agent()\n",
        "env = Env(gym.make('CarRacing-v0'))\n",
        "agent.load_param()"
      ],
      "execution_count": 9,
      "outputs": [
        {
          "output_type": "stream",
          "text": [
            "/usr/local/lib/python3.7/dist-packages/gym/logger.py:30: UserWarning: \u001b[33mWARN: Box bound precision lowered by casting to float32\u001b[0m\n",
            "  warnings.warn(colorize('%s: %s'%('WARN', msg % args), 'yellow'))\n"
          ],
          "name": "stderr"
        }
      ]
    },
    {
      "cell_type": "code",
      "metadata": {
        "colab": {
          "base_uri": "https://localhost:8080/"
        },
        "id": "iUF3ZZ3lasXJ",
        "outputId": "f9f3c9af-f569-488e-80f2-b7d1c46df3ea"
      },
      "source": [
        "training_records, running_score = [], 0\n",
        "state = env.reset()\n",
        "episodes = range(1000)\n",
        "\n",
        "for episode in episodes:\n",
        "  score = 0\n",
        "  state = env.reset()\n",
        "\n",
        "  for t in range(1000):\n",
        "    action, a_logp = agent.select_action(state)\n",
        "    state_, reward, done, dead = env.step(action * np.array([2., 1., 1.]) + np.array([-1., 0., 0.]))\n",
        "\n",
        "    if agent.store((state, action, a_logp, reward, state_)):\n",
        "      print('updating...')\n",
        "      agent.update()\n",
        "    score += reward\n",
        "    state = state_\n",
        "    if done or dead:\n",
        "      break\n",
        "    running_score = running_score * 0.99 + score * 0.01\n",
        "  training_records.append(score)\n",
        "  \n",
        "  if not episode % 10:\n",
        "    print('Ep {}\\tLast score: {:.2f}\\tMoving average score: {:.2f}'.format(episode, score, running_score))\n",
        "    # agent.save_param()\n",
        "  \n",
        "  if running_score > env.reward_threshold:\n",
        "    print(f'solved - {running_score}, {score}')\n",
        "    break"
      ],
      "execution_count": null,
      "outputs": [
        {
          "output_type": "stream",
          "text": [
            "Track generation: 1223..1533 -> 310-tiles track\n",
            "Track generation: 1223..1533 -> 310-tiles track\n",
            "Ep 0\tLast score: -17.98\tMoving average score: -1.87\n",
            "Track generation: 1163..1458 -> 295-tiles track\n",
            "Track generation: 1076..1349 -> 273-tiles track\n",
            "Track generation: 1160..1454 -> 294-tiles track\n",
            "Track generation: 1196..1499 -> 303-tiles track\n",
            "Track generation: 963..1208 -> 245-tiles track\n",
            "Track generation: 1143..1433 -> 290-tiles track\n",
            "Track generation: 1074..1346 -> 272-tiles track\n",
            "Track generation: 1228..1539 -> 311-tiles track\n",
            "Track generation: 1002..1261 -> 259-tiles track\n",
            "Track generation: 1124..1409 -> 285-tiles track\n",
            "Ep 10\tLast score: -17.96\tMoving average score: -0.12\n",
            "Track generation: 1217..1525 -> 308-tiles track\n",
            "Track generation: 1028..1289 -> 261-tiles track\n"
          ],
          "name": "stdout"
        }
      ]
    },
    {
      "cell_type": "code",
      "metadata": {
        "id": "Tlf5bY7C5OLZ"
      },
      "source": [
        "def show_video():\n",
        "  mp4list = glob.glob('video/*.mp4')\n",
        "  if len(mp4list) > 0:\n",
        "    mp4 = mp4list[0]\n",
        "    video = io.open(mp4, 'r+b').read()\n",
        "    encoded = base64.b64encode(video)\n",
        "    ipythondisplay.display(HTML(data='''<video alt=\"test\" autoplay \n",
        "                loop controls style=\"height: 400px;\">\n",
        "                <source src=\"data:video/mp4;base64,{0}\" type=\"video/mp4\" />\n",
        "             </video>'''.format(encoded.decode('ascii'))))\n",
        "  else: \n",
        "    print(\"Could not find video\")\n",
        "    \n",
        "\n",
        "def wrap_env(env):\n",
        "  env = Monitor(env.env, './video', force=True)\n",
        "  return env"
      ],
      "execution_count": 11,
      "outputs": []
    },
    {
      "cell_type": "code",
      "metadata": {
        "id": "6t1TLF-d5Rhg"
      },
      "source": [
        "env = wrap_env(env)"
      ],
      "execution_count": 12,
      "outputs": []
    },
    {
      "cell_type": "code",
      "metadata": {
        "id": "UcjfeorAd5wo"
      },
      "source": [
        "state = env.env.reset()\n",
        "total_reward = 0\n",
        "done = False\n",
        "dead = False\n",
        "\n",
        "for _ in range(1000):\n",
        "  env.env.render()\n",
        "  action, _ = agent.select_action(state)\n",
        "\n",
        "  state, reward, done, dead = env.env.step(action * np.array([2., 1., 1.]) + np.array([-1., 0., 0.]))\n",
        "  total_reward += reward\n",
        "\n",
        "show_video()\n",
        "env.env.close()\n",
        "print(total_reward)"
      ],
      "execution_count": null,
      "outputs": []
    },
    {
      "cell_type": "code",
      "metadata": {
        "id": "4Rb_kc01G7xY"
      },
      "source": [
        ""
      ],
      "execution_count": null,
      "outputs": []
    }
  ]
}